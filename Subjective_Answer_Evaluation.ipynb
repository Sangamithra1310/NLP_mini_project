{
 "cells": [
  {
   "cell_type": "markdown",
   "metadata": {},
   "source": [
    "CHECKING THE TEXT"
   ]
  },
  {
   "cell_type": "code",
   "execution_count": 1,
   "metadata": {},
   "outputs": [
    {
     "name": "stdout",
     "output_type": "stream",
     "text": [
      "Number of words in text file : 89\n"
     ]
    }
   ],
   "source": [
    "file = open(\"C:/Users/Sangamithra/CIP/CIP implementation/text files/student1.txt\", 'rt', encoding=\"iso-8859-1\")\n",
    "data = file.read()\n",
    "words = data.split()\n",
    "\n",
    "print('Number of words in text file :' , len(words))"
   ]
  },
  {
   "cell_type": "code",
   "execution_count": 4,
   "metadata": {},
   "outputs": [
    {
     "name": "stdout",
     "output_type": "stream",
     "text": [
      "Number of characters in text file : 568\n"
     ]
    }
   ],
   "source": [
    "file = open(\"C:/Users/Sangamithra/CIP/CIP implementation/text files/student1.txt\", 'rt', encoding=\"iso-8859-1\")\n",
    "data = file.read()\n",
    "no_of_characters= len(data)\n",
    "\n",
    "print('Number of characters in text file :' , no_of_characters)"
   ]
  },
  {
   "cell_type": "code",
   "execution_count": 5,
   "metadata": {},
   "outputs": [
    {
     "name": "stdout",
     "output_type": "stream",
     "text": [
      "This is the number of lines in the file\n",
      "12\n"
     ]
    }
   ],
   "source": [
    "# Python program to count the  \n",
    "# number of lines in a text file \n",
    "  \n",
    "  \n",
    "# Opening a file \n",
    "file = open(\"C:/Users/Sangamithra/CIP/CIP implementation/text files/student1.txt\",\"r\") \n",
    "Counter = 0\n",
    "  \n",
    "# Reading from file \n",
    "Content = file.read() \n",
    "CoList = Content.split(\"\\n\") \n",
    "  \n",
    "for i in CoList: \n",
    "    if i: \n",
    "        Counter += 1\n",
    "          \n",
    "print(\"This is the number of lines in the file\") \n",
    "print(Counter) "
   ]
  },
  {
   "cell_type": "code",
   "execution_count": 6,
   "metadata": {},
   "outputs": [
    {
     "name": "stdout",
     "output_type": "stream",
     "text": [
      "This is the number of sentences in the file\n",
      "4\n"
     ]
    }
   ],
   "source": [
    "with open(\"C:/Users/Sangamithra/CIP/CIP implementation/text files/student1.txt\", \"r\") as f:\n",
    "    count = f.read().count('.')\n",
    "print(\"This is the number of sentences in the file\") \n",
    "print (count)"
   ]
  },
  {
   "cell_type": "markdown",
   "metadata": {},
   "source": [
    "WORD BALANCING"
   ]
  },
  {
   "cell_type": "code",
   "execution_count": 7,
   "metadata": {},
   "outputs": [
    {
     "name": "stdout",
     "output_type": "stream",
     "text": [
      "a program that convrts instructions into a machin code or lower level form so that they can be read and excuted by a computer.\n",
      "the analyss part breaks up the source program into constituent pieces. the synthesis part constrcts the target program from the intermediate code.\n",
      "symbol table is used to store the infrmation about the occurrence of various entties.\n",
      "lexical analysis\n",
      "syntax analysis or parsing\n",
      "semantic analysis\n",
      "intermediate code genration\n",
      "code optimization\n",
      "code generation\n",
      "works on smallest class of grammar\n",
      "few number of states\n",
      "smple and fast construction\n"
     ]
    }
   ],
   "source": [
    "for line in open('C:/Users/Sangamithra/CIP/CIP implementation/text files/student1.txt'):       \n",
    "    # Use file iterators to read by lines \n",
    "    print(line.lower(), end='')  "
   ]
  },
  {
   "cell_type": "markdown",
   "metadata": {},
   "source": [
    "MODULE-1"
   ]
  },
  {
   "cell_type": "markdown",
   "metadata": {},
   "source": [
    "SPELL CHECK"
   ]
  },
  {
   "cell_type": "code",
   "execution_count": 1,
   "metadata": {},
   "outputs": [
    {
     "name": "stdout",
     "output_type": "stream",
     "text": [
      "The matches in the file:\n",
      "[Match({'ruleId': 'MORFOLOGIK_RULE_EN_US', 'message': 'Possible spelling mistake found.', 'replacements': ['converts'], 'offsetInContext': 15, 'context': 'A program that convrts instructions into a machin code or lowe...', 'offset': 15, 'errorLength': 7, 'category': 'TYPOS', 'ruleIssueType': 'misspelling', 'sentence': 'A program that convrts instructions into a machin code or lower level form so that they can be read and excuted by a computer.'}), Match({'ruleId': 'MORFOLOGIK_RULE_EN_US', 'message': 'Possible spelling mistake found.', 'replacements': ['machine', 'ma chin', 'mach in'], 'offsetInContext': 43, 'context': '...rogram that convrts instructions into a machin code or lower level form so that they c...', 'offset': 43, 'errorLength': 6, 'category': 'TYPOS', 'ruleIssueType': 'misspelling', 'sentence': 'A program that convrts instructions into a machin code or lower level form so that they can be read and excuted by a computer.'}), Match({'ruleId': 'MORFOLOGIK_RULE_EN_US', 'message': 'Possible spelling mistake found.', 'replacements': ['executed', 'excited', 'excused'], 'offsetInContext': 43, 'context': '...level form so that they can be read and excuted by a computer. The analyss part breaks ...', 'offset': 104, 'errorLength': 7, 'category': 'TYPOS', 'ruleIssueType': 'misspelling', 'sentence': 'A program that convrts instructions into a machin code or lower level form so that they can be read and excuted by a computer.'}), Match({'ruleId': 'MORFOLOGIK_RULE_EN_US', 'message': 'Possible spelling mistake found.', 'replacements': ['analysis', 'analyst', 'analyses', 'analysts'], 'offsetInContext': 43, 'context': '... be read and excuted by a computer. The analyss part breaks up the source program into ...', 'offset': 131, 'errorLength': 7, 'category': 'TYPOS', 'ruleIssueType': 'misspelling', 'sentence': 'The analyss part breaks up the source program into constituent pieces.'}), Match({'ruleId': 'MORFOLOGIK_RULE_EN_US', 'message': 'Possible spelling mistake found.', 'replacements': ['constructs', 'constricts'], 'offsetInContext': 43, 'context': '... constituent pieces. The synthesis part constrcts the target program from the intermediat...', 'offset': 217, 'errorLength': 9, 'category': 'TYPOS', 'ruleIssueType': 'misspelling', 'sentence': 'The synthesis part constrcts the target program from the intermediate code.'}), Match({'ruleId': 'MORFOLOGIK_RULE_EN_US', 'message': 'Possible spelling mistake found.', 'replacements': ['information'], 'offsetInContext': 43, 'context': '...code. Symbol table is used to store the infrmation about the occurrence of various entties...', 'offset': 308, 'errorLength': 10, 'category': 'TYPOS', 'ruleIssueType': 'misspelling', 'sentence': 'Symbol table is used to store the infrmation about the occurrence of various entties.'}), Match({'ruleId': 'MORFOLOGIK_RULE_EN_US', 'message': 'Possible spelling mistake found.', 'replacements': ['entities', 'entries'], 'offsetInContext': 43, 'context': '...rmation about the occurrence of various entties. Lexical Analysis Syntax analysis or pa...', 'offset': 351, 'errorLength': 7, 'category': 'TYPOS', 'ruleIssueType': 'misspelling', 'sentence': 'Symbol table is used to store the infrmation about the occurrence of various entties.'}), Match({'ruleId': 'MORFOLOGIK_RULE_EN_US', 'message': 'Possible spelling mistake found.', 'replacements': ['Generation', 'Gen ration'], 'offsetInContext': 43, 'context': '...ing Semantic Analysis Intermediate Code Genration Code Optimization Code Generation Works...', 'offset': 440, 'errorLength': 9, 'category': 'TYPOS', 'ruleIssueType': 'misspelling', 'sentence': 'Lexical Analysis Syntax analysis or parsing Semantic Analysis Intermediate Code Genration Code Optimization Code Generation Works on smallest class of grammar Few number of states Smple and fast construction'}), Match({'ruleId': 'MORFOLOGIK_RULE_EN_US', 'message': 'Possible spelling mistake found.', 'replacements': ['Simple', 'Sample', 'Ample', 'Smile'], 'offsetInContext': 43, 'context': '...t class of grammar Few number of states Smple and fast construction', 'offset': 540, 'errorLength': 5, 'category': 'TYPOS', 'ruleIssueType': 'misspelling', 'sentence': 'Lexical Analysis Syntax analysis or parsing Semantic Analysis Intermediate Code Genration Code Optimization Code Generation Works on smallest class of grammar Few number of states Smple and fast construction'}), Match({'ruleId': 'PUNCTUATION_PARAGRAPH_END', 'message': 'Please add a punctuation mark at the end of paragraph.', 'replacements': ['construction.', 'construction!', 'construction?', 'construction:', 'construction,', 'construction;'], 'offsetInContext': 43, 'context': '...mar Few number of states Smple and fast construction', 'offset': 555, 'errorLength': 12, 'category': 'PUNCTUATION', 'ruleIssueType': 'grammar', 'sentence': 'Lexical Analysis Syntax analysis or parsing Semantic Analysis Intermediate Code Genration Code Optimization Code Generation Works on smallest class of grammar Few number of states Smple and fast construction'})]\n"
     ]
    }
   ],
   "source": [
    "import language_tool_python\n",
    "tool = language_tool_python.LanguageTool('en-US')\n",
    "f = open('C:/Users/Sangamithra/CIP/CIP implementation/text files/student1.txt', 'r')\n",
    "lines = f.readlines()\n",
    "text = ' '.join([line.strip() for line in lines])\n",
    "#with open(r'/content/gdrive/My Drive/input_py.txt', 'r') as fin:  \n",
    "    #for line in fin: \n",
    "        #text=line.split()\n",
    "        #matches = tool.check(line)\n",
    "#print(text)\n",
    "matches = tool.check(text)\n",
    "print(\"The matches in the file:\")\n",
    "print(matches)"
   ]
  },
  {
   "cell_type": "markdown",
   "metadata": {},
   "source": [
    "CORRECTION OF SPELLING ERRORS"
   ]
  },
  {
   "cell_type": "code",
   "execution_count": 2,
   "metadata": {},
   "outputs": [
    {
     "name": "stdout",
     "output_type": "stream",
     "text": [
      "\n",
      "The corrected words are:\n",
      "['converts', 'machine', 'executed', 'analysis', 'constructs', 'information', 'entities', 'Generation', 'Simple', 'construction.']\n",
      "\n",
      "The final corrected text is:\n"
     ]
    },
    {
     "data": {
      "text/plain": [
       "'A program that converts instructions into a machine code or lower level form so that they can be read and executed by a computer. The analysis part breaks up the source program into constituent pieces. The synthesis part constructs the target program from the intermediate code. Symbol table is used to store the information about the occurrence of various entities. Lexical Analysis Syntax analysis or parsing Semantic Analysis Intermediate Code Generation Code Optimization Code Generation Works on smallest class of grammar Few number of states Simple and fast construction.'"
      ]
     },
     "execution_count": 2,
     "metadata": {},
     "output_type": "execute_result"
    }
   ],
   "source": [
    "my_mistakes = []\n",
    "my_corrections = [] \n",
    "start_positions =[]\n",
    "end_positions = []\n",
    "#with open(r'/content/gdrive/My Drive/input_py.txt', 'r') as fin:   \\n\",\n",
    "#    for lin in fin: \\n\",\n",
    "#        my=lin.split(\\\",\\\")\\n\",\n",
    "for rules in matches:\n",
    "    if len(rules.replacements)>0:\n",
    "        start_positions.append(rules.offset)\n",
    "        end_positions.append(rules.errorLength+rules.offset)\n",
    "        my_mistakes.append(text[rules.offset:rules.errorLength+rules.offset])\n",
    "        my_corrections.append(rules.replacements[0])\n",
    "      \n",
    "print(\"\\nThe corrected words are:\") \n",
    "print(my_corrections)\n",
    "my_new_text = list(text)\n",
    "my_a=list(my_corrections) \n",
    "for m in range(len(start_positions)):\n",
    "    for i in range(len(my_new_text)):\n",
    "        my_new_text[start_positions[m]]=my_a[m]\n",
    "        if (i>start_positions[m] and i<end_positions[m]):\n",
    "            my_new_text[i]=\"\"\n",
    "        \n",
    "my_new_text = \"\".join(my_new_text)\n",
    "print(\"\\nThe final corrected text is:\")\n",
    "my_new_text"
   ]
  },
  {
   "cell_type": "markdown",
   "metadata": {},
   "source": [
    "MODULE-2"
   ]
  },
  {
   "cell_type": "markdown",
   "metadata": {},
   "source": [
    "GRAMMAR CHECK"
   ]
  },
  {
   "cell_type": "code",
   "execution_count": 3,
   "metadata": {},
   "outputs": [
    {
     "data": {
      "text/plain": [
       "{'text': 'A program that convrts instructions into a machin code or lower level form so that they can be read and excuted by a computer.The analyss part breaks up the source program into constituent pieces. The synthesis part constrcts the target program from the intermediate code.Symbol table is used to store the infrmation about the occurrence of various entties.Lexical Analysis Syntax analysis or parsing Semantic Analysis Intermediate Code Genration Code Optimization Code Generation. Works on smallest class of grammar Few number of states Smple and fast construction.',\n",
       " 'result': 'A program that converts instructions into a machine code or lower level form so that they can be read and executed by a computer. The analysis part breaks up the source program into constituent pieces. The synthesis part constructs the target program from the intermediate code. The symbol table is used to store the information about the occurrence of various entities. Lexical Analysis, Syntax analysis or parsing Semantic Analysis Intermediate Code Genration Code Optimization Code Generation. Works on smallest class of grammar Few number of states simple and fast construction.',\n",
       " 'corrections': [{'start': 538,\n",
       "   'text': 'Smple',\n",
       "   'correct': 'simple',\n",
       "   'definition': 'having few parts; not complex or complicated or involved'},\n",
       "  {'start': 365,\n",
       "   'text': 'Analysis Syntax',\n",
       "   'correct': 'Analysis, Syntax',\n",
       "   'definition': 'Accept comma addition'},\n",
       "  {'start': 356, 'text': '.', 'correct': '. ', 'definition': 'Accept space'},\n",
       "  {'start': 349,\n",
       "   'text': 'entties',\n",
       "   'correct': 'entities',\n",
       "   'definition': 'that which is perceived or known or inferred to have its own distinct existence (living or nonliving)'},\n",
       "  {'start': 306,\n",
       "   'text': 'infrmation',\n",
       "   'correct': 'information',\n",
       "   'definition': 'a message received and understood'},\n",
       "  {'start': 272,\n",
       "   'text': 'Symbol table',\n",
       "   'correct': 'The symbol table',\n",
       "   'definition': None},\n",
       "  {'start': 271, 'text': '.', 'correct': '. ', 'definition': 'Accept space'},\n",
       "  {'start': 216,\n",
       "   'text': 'constrcts',\n",
       "   'correct': 'constructs',\n",
       "   'definition': 'make by combining materials and parts'},\n",
       "  {'start': 130,\n",
       "   'text': 'analyss',\n",
       "   'correct': 'analysis',\n",
       "   'definition': 'an investigation of the component parts of a whole and their relations in making up the whole'},\n",
       "  {'start': 125, 'text': '.', 'correct': '. ', 'definition': 'Accept space'},\n",
       "  {'start': 104,\n",
       "   'text': 'excuted',\n",
       "   'correct': 'executed',\n",
       "   'definition': 'put to death as punishment'},\n",
       "  {'start': 43,\n",
       "   'text': 'machin',\n",
       "   'correct': 'machine',\n",
       "   'definition': 'any mechanical or electrical device that transmits or modifies energy to perform or assist in the performance of human tasks'},\n",
       "  {'start': 15,\n",
       "   'text': 'convrts',\n",
       "   'correct': 'converts',\n",
       "   'definition': 'change from one system to another or to a new plan or policy'}]}"
      ]
     },
     "execution_count": 3,
     "metadata": {},
     "output_type": "execute_result"
    }
   ],
   "source": [
    "# Import the package\n",
    "from gingerit.gingerit import GingerIt\n",
    "# Text with spelling and grammatical mistakes\n",
    "text = \"A program that convrts instructions into a machin code or lower level form so that they can be read and excuted by a computer.The analyss part breaks up the source program into constituent pieces. The synthesis part constrcts the target program from the intermediate code.Symbol table is used to store the infrmation about the occurrence of various entties.Lexical Analysis Syntax analysis or parsing Semantic Analysis Intermediate Code Genration Code Optimization Code Generation. Works on smallest class of grammar Few number of states Smple and fast construction.\"\n",
    "# Create an object of Gingerit package and pass the text as an paramater to it parse function\n",
    "\n",
    "result = GingerIt().parse(text)\n",
    "result"
   ]
  },
  {
   "cell_type": "code",
   "execution_count": 4,
   "metadata": {},
   "outputs": [
    {
     "data": {
      "text/plain": [
       "13"
      ]
     },
     "execution_count": 4,
     "metadata": {},
     "output_type": "execute_result"
    }
   ],
   "source": [
    "# Number of mistakes in the original text\n",
    "\n",
    "len(result['corrections'])"
   ]
  },
  {
   "cell_type": "code",
   "execution_count": 5,
   "metadata": {},
   "outputs": [
    {
     "name": "stdout",
     "output_type": "stream",
     "text": [
      "{'start': 538, 'text': 'Smple', 'correct': 'simple', 'definition': 'having few parts; not complex or complicated or involved'}\n",
      "{'start': 365, 'text': 'Analysis Syntax', 'correct': 'Analysis, Syntax', 'definition': 'Accept comma addition'}\n",
      "{'start': 356, 'text': '.', 'correct': '. ', 'definition': 'Accept space'}\n",
      "{'start': 349, 'text': 'entties', 'correct': 'entities', 'definition': 'that which is perceived or known or inferred to have its own distinct existence (living or nonliving)'}\n",
      "{'start': 306, 'text': 'infrmation', 'correct': 'information', 'definition': 'a message received and understood'}\n",
      "{'start': 272, 'text': 'Symbol table', 'correct': 'The symbol table', 'definition': None}\n",
      "{'start': 271, 'text': '.', 'correct': '. ', 'definition': 'Accept space'}\n",
      "{'start': 216, 'text': 'constrcts', 'correct': 'constructs', 'definition': 'make by combining materials and parts'}\n",
      "{'start': 130, 'text': 'analyss', 'correct': 'analysis', 'definition': 'an investigation of the component parts of a whole and their relations in making up the whole'}\n",
      "{'start': 125, 'text': '.', 'correct': '. ', 'definition': 'Accept space'}\n",
      "{'start': 104, 'text': 'excuted', 'correct': 'executed', 'definition': 'put to death as punishment'}\n",
      "{'start': 43, 'text': 'machin', 'correct': 'machine', 'definition': 'any mechanical or electrical device that transmits or modifies energy to perform or assist in the performance of human tasks'}\n",
      "{'start': 15, 'text': 'convrts', 'correct': 'converts', 'definition': 'change from one system to another or to a new plan or policy'}\n"
     ]
    }
   ],
   "source": [
    "# List of mistakes in dictionary format as starting index, mistaken text, corrected text, definition of the corrected text\n",
    "\n",
    "for i in range(len(result['corrections'])):\n",
    "  print(result['corrections'][i])"
   ]
  },
  {
   "cell_type": "code",
   "execution_count": 6,
   "metadata": {},
   "outputs": [
    {
     "name": "stdout",
     "output_type": "stream",
     "text": [
      "Original Text:  A program that convrts instructions into a machin code or lower level form so that they can be read and excuted by a computer.The analyss part breaks up the source program into constituent pieces. The synthesis part constrcts the target program from the intermediate code.Symbol table is used to store the infrmation about the occurrence of various entties.Lexical Analysis Syntax analysis or parsing Semantic Analysis Intermediate Code Genration Code Optimization Code Generation. Works on smallest class of grammar Few number of states Smple and fast construction.\n",
      "\n",
      "\n",
      "Corrected Text:  A program that converts instructions into a machine code or lower level form so that they can be read and executed by a computer. The analysis part breaks up the source program into constituent pieces. The synthesis part constructs the target program from the intermediate code. The symbol table is used to store the information about the occurrence of various entities. Lexical Analysis, Syntax analysis or parsing Semantic Analysis Intermediate Code Genration Code Optimization Code Generation. Works on smallest class of grammar Few number of states simple and fast construction.\n"
     ]
    }
   ],
   "source": [
    "# Print the corrected text\n",
    "\n",
    "print(\"Original Text: \", result['text'])\n",
    "print(\"\\n\")\n",
    "print(\"Corrected Text: \", result['result'])"
   ]
  },
  {
   "cell_type": "markdown",
   "metadata": {},
   "source": [
    "MODULE-3"
   ]
  },
  {
   "cell_type": "markdown",
   "metadata": {},
   "source": [
    "STOPWORD REMOVAL"
   ]
  },
  {
   "cell_type": "code",
   "execution_count": 7,
   "metadata": {},
   "outputs": [
    {
     "name": "stdout",
     "output_type": "stream",
     "text": [
      "a : 3\n",
      "program : 3\n",
      "that : 2\n",
      "converts : 1\n",
      "instructions : 1\n",
      "into : 2\n",
      "machine : 1\n",
      "code : 5\n",
      "or : 2\n",
      "lower : 1\n",
      "level : 1\n",
      "form : 1\n",
      "so : 1\n",
      "they : 1\n",
      "can : 1\n",
      "be : 1\n",
      "read : 1\n",
      "and : 2\n",
      "executed : 1\n",
      "by : 1\n",
      "computer : 1\n",
      "the : 7\n",
      "analysis : 4\n",
      "part : 2\n",
      "breaks : 1\n",
      "up : 1\n",
      "source : 1\n",
      "constituent : 1\n",
      "pieces : 1\n",
      "synthesis : 1\n",
      "constructs : 1\n",
      "target : 1\n",
      "from : 1\n",
      "intermediate : 2\n",
      "symbol : 1\n",
      "table : 1\n",
      "is : 1\n",
      "used : 1\n",
      "to : 1\n",
      "store : 1\n",
      "information : 1\n",
      "about : 1\n",
      "occurrence : 1\n",
      "of : 3\n",
      "various : 1\n",
      "entities : 1\n",
      "lexical : 1\n",
      "syntax : 1\n",
      "parsing : 1\n",
      "semantic : 1\n",
      "genration : 1\n",
      "optimization : 1\n",
      "generation : 1\n",
      "works : 1\n",
      "on : 1\n",
      "smallest : 1\n",
      "class : 1\n",
      "grammar : 1\n",
      "few : 1\n",
      "number : 1\n",
      "states : 1\n",
      "simple : 1\n",
      "fast : 1\n",
      "construction : 1\n"
     ]
    }
   ],
   "source": [
    "# Open the file in read mode \n",
    "text = open(\"C:/Users/Sangamithra/CIP/CIP implementation/text files/output.txt\", 'rt', encoding=\"iso-8859-1\") \n",
    "  \n",
    "# Create an empty dictionary \n",
    "d = dict() \n",
    "  \n",
    "# Loop through each line of the file \n",
    "for line in text: \n",
    "    # Remove the leading spaces and newline character \n",
    "    line = line.strip() \n",
    "  \n",
    "    # Convert the characters in line to  \n",
    "    # lowercase to avoid case mismatch \n",
    "    line = line.lower() \n",
    "  \n",
    "    # Split the line into words \n",
    "    words = line.split(\" \") \n",
    "  \n",
    "    # Iterate over each word in line \n",
    "    for word in words: \n",
    "        # Check if the word is already in dictionary \n",
    "        if word in d: \n",
    "            # Increment count of word by 1 \n",
    "            d[word] = d[word] + 1\n",
    "        else: \n",
    "            # Add the word to dictionary with count 1 \n",
    "            d[word] = 1\n",
    "  \n",
    "# Print the contents of dictionary \n",
    "for key in list(d.keys()): \n",
    "    print(key, \":\", d[key]) "
   ]
  },
  {
   "cell_type": "code",
   "execution_count": 5,
   "metadata": {},
   "outputs": [
    {
     "name": "stdout",
     "output_type": "stream",
     "text": [
      "['program', 'converts', 'instructions', 'machine', 'code', 'lower', 'level', 'form', 'read', 'executed', 'computer', 'analysis', 'part', 'breaks', 'source', 'program', 'constituent', 'pieces', 'synthesis', 'part', 'constructs', 'target', 'program', 'intermediate', 'code', 'symbol', 'table', 'used', 'store', 'information', 'occurrence', 'various', 'entities', 'lexical', 'analysis', 'syntax', 'analysis', 'parsing', 'semantic', 'analysis', 'intermediate', 'code', 'genration', 'code', 'optimization', 'code', 'generation', 'works', 'smallest', 'class', 'grammar', 'number', 'states', 'simple', 'fast', 'construction']\n"
     ]
    }
   ],
   "source": [
    "# load data\n",
    "filename = 'C:/Users/Sangamithra/CIP/CIP implementation/text files/output.txt'\n",
    "file = open(filename, 'rt')\n",
    "text = file.read()\n",
    "file.close()\n",
    "# split into words\n",
    "from nltk.tokenize import word_tokenize\n",
    "tokens = word_tokenize(text)\n",
    "# convert to lower case\n",
    "tokens = [w.lower() for w in tokens]\n",
    "# remove punctuation from each word\n",
    "import string\n",
    "table = str.maketrans('', '', string.punctuation)\n",
    "stripped = [w.translate(table) for w in tokens]\n",
    "# remove remaining tokens that are not alphabetic\n",
    "words = [word for word in stripped if word.isalpha()]\n",
    "# filter out stop words\n",
    "from nltk.corpus import stopwords\n",
    "stop_words = set(stopwords.words('english'))\n",
    "words = [w for w in words if not w in stop_words]\n",
    "print(words[:100])\n",
    "#print (str(len(words)))"
   ]
  },
  {
   "cell_type": "code",
   "execution_count": 10,
   "metadata": {},
   "outputs": [
    {
     "name": "stdout",
     "output_type": "stream",
     "text": [
      "Number of words after stopword removal:  54\n"
     ]
    }
   ],
   "source": [
    "print ('Number of words after stopword removal: ',str(len(words)))"
   ]
  },
  {
   "cell_type": "markdown",
   "metadata": {},
   "source": [
    "RAPID KEYWORD EXTRACTION ALGORITHM"
   ]
  },
  {
   "cell_type": "code",
   "execution_count": 6,
   "metadata": {},
   "outputs": [
    {
     "name": "stdout",
     "output_type": "stream",
     "text": [
      "keywords:  [('read', 1.0), ('executed', 1.0), ('computer', 1.0), ('store', 1.0), ('information', 1.0), ('occurrence', 1.0), ('grammar', 1.0), ('number', 1.0), ('program', 1.6666666666666667), ('source program', 3.666666666666667), ('target program', 3.666666666666667), ('converts instructions', 4.0), ('constituent pieces', 4.0), ('smallest class', 4.0), ('states simple', 4.0), ('fast construction', 4.0), ('machine code', 5.0), ('lower level form', 9.0), ('synthesis part constructs', 9.0), ('analysis part breaks', 10.333333333333332), ('intermediate code symbol table', 15.0), ('entities lexical analysis syntax analysis', 23.666666666666664)]\n"
     ]
    }
   ],
   "source": [
    "import RAKE\n",
    "import operator\n",
    "\n",
    "stop_dir='C:/Users/Sangamithra/CIP/CD project-1/Descriptive-Answer-Evaluation-System-Master/data/stoplists/SmartStoplist.txt'\n",
    "rake_object=RAKE.Rake(stop_dir)\n",
    "\n",
    "def Sort_Tuple(tup):\n",
    "    tup.sort(key = lambda x: x[1])\n",
    "    return tup\n",
    "\n",
    "sample_file = open(\"C:/Users/Sangamithra/CIP/CIP implementation/text files/output.txt\", 'r', encoding=\"iso-8859-1\")\n",
    "text = sample_file.read()\n",
    "\n",
    "keywords = Sort_Tuple(rake_object.run(text))\n",
    "print(\"keywords: \",keywords)"
   ]
  },
  {
   "cell_type": "markdown",
   "metadata": {},
   "source": [
    "MODULE-4 AND MODULE-5"
   ]
  },
  {
   "cell_type": "markdown",
   "metadata": {},
   "source": [
    "SUBJECTIVE ANSWER EVALUATION"
   ]
  },
  {
   "cell_type": "code",
   "execution_count": 12,
   "metadata": {},
   "outputs": [],
   "source": [
    "import tkinter as tk "
   ]
  },
  {
   "cell_type": "code",
   "execution_count": 1,
   "metadata": {},
   "outputs": [
    {
     "name": "stdout",
     "output_type": "stream",
     "text": [
      "What is a compiler?\n",
      "Keyword in original file =  ['compiler', 'program', 'language', 'source', 'errors', 'equivalent', 'target']\n",
      "No of keywords in original file =  7\n",
      "Detected = convert high level language\n",
      "Detected = machine language\n",
      "Detected = compiler\n",
      "Detected = program\n",
      "Count =  4\n",
      "No. of Errors =  0\n",
      "Marks obtained after parsing = 10 /10\n",
      "Marks obtained out of 50 is = 40 /50\n",
      "Explain briefly about the parts of a compilation.\n",
      "Keyword in original file =  ['analysis', 'synthesis', 'compilation', 'intermediate representation', 'source program', 'target program', 'two', 'breaks', 'constructs']\n",
      "No of keywords in original file =  9\n",
      "Detected = synthesis part builds target program\n",
      "Detected = synthesis part builds target program\n",
      "Detected = analysis part breaks\n",
      "Detected = analysis part breaks\n",
      "Detected = synthesis part\n",
      "Detected = analysis part\n",
      "Detected = source program\n",
      "Detected = intermediate representation\n",
      "Detected = compilation\n",
      "Count =  9\n",
      "No. of Errors =  0\n",
      "Marks obtained after parsing = 10 /10\n",
      "Marks obtained out of 50 is = 50 /50\n",
      "What is a symbol table?\n",
      "Keyword in original file =  ['data structure', 'record', 'identifier', 'attributes', 'lexical analyzer']\n",
      "No of keywords in original file =  5\n",
      "Detected = data structure\n",
      "Count =  1\n",
      "No. of Errors =  1\n",
      "Possible spelling mistake found\n",
      "Marks obtained after parsing = 10 /10\n",
      "Marks obtained out of 50 is = 15 /50\n",
      "List the various phases of compiler.\n",
      "Keyword in original file =  ['Lexical', 'Analyzer', 'Syntax', 'Semantic', 'Intermediate', 'Code generator', 'Code optimizer', 'code']\n",
      "No of keywords in original file =  8\n",
      "Detected = intermediate code generation\n",
      "Detected = intermediate code generation\n",
      "Detected = code generation\n",
      "Detected = intermediate representation\n",
      "Detected = code optimization\n",
      "Detected = lexical analysis\n",
      "Detected = semantic analysis\n",
      "Count =  7\n",
      "No. of Errors =  1\n",
      "Possible spelling mistake found\n",
      "Marks obtained after parsing = 10 /10\n",
      "Marks obtained out of 50 is = 48 /50\n",
      "List the properties of LR parser.\n",
      "Keyword in original file =  ['LR parsers', 'parser', 'recognize', 'programming languages', 'context free grammar', 'non backtracking', 'predictive', '']\n",
      "No of keywords in original file =  8\n",
      "Detected = synthesis part builds target program\n",
      "Detected = convert high level language\n",
      "Detected = recursive shift reduce parser\n",
      "Detected = recursive shift reduce parser\n",
      "Detected = context free grammar\n",
      "Detected = context free grammar\n",
      "Detected = analysis part breaks\n",
      "Detected = intermediate code generation\n",
      "Detected = synthesis part\n",
      "Detected = analysis part\n",
      "Detected = code generation\n",
      "Detected = source program\n",
      "Detected = machine language\n",
      "Detected = intermediate representation\n",
      "Detected = code optimization\n",
      "Detected = lr parser\n",
      "Detected = lr parser\n",
      "Detected = lexical analysis\n",
      "Detected = semantic analysis\n",
      "Detected = syntactic analysis\n",
      "Detected = constituent pieces\n",
      "Detected = symbol table\n",
      "Detected = data structure\n",
      "Detected = stores information\n",
      "Detected = wide class\n",
      "Detected = program\n",
      "Detected = parser\n",
      "Detected = parser\n",
      "Detected = machine\n",
      "Detected = compiler\n",
      "Detected = understood\n",
      "Detected = parts\n",
      "Detected = compilation\n",
      "Detected = occurence\n",
      "Detected = entities\n",
      "Detected = bottom\n",
      "Count =  36\n",
      "No. of Errors =  2\n",
      "Possible spelling mistake found\n",
      "This sentence does not start with an uppercase letter\n",
      "Marks obtained after parsing = 10 /10\n",
      "Marks obtained out of 50 is = 50 /50\n"
     ]
    },
    {
     "data": {
      "image/png": "[encoded data removed]",
      "text/plain": [
       "<Figure size 640x480 with 1 Axes>"
      ]
     },
     "metadata": {},
     "output_type": "display_data"
    }
   ],
   "source": [
    "from __future__ import absolute_import\n",
    "from __future__ import print_function\n",
    "import six\n",
    "\n",
    "import language_check\n",
    "\n",
    "from tkinter import *\n",
    "from tkinter import messagebox\n",
    "\n",
    "import rake\n",
    "import operator\n",
    "import io\n",
    "\n",
    "import matplotlib.pyplot as plt; plt.rcdefaults()\n",
    "import numpy as np\n",
    "import matplotlib.pyplot as plt\n",
    "\n",
    "counter=1\n",
    "file=open(\"C:/Users/Sangamithra/CIP/Subjective-Answer-Evaluation/questions.txt\",\"r\")\n",
    "q=[line.rstrip('\\n') for line in file]\n",
    "totmark=[0,0,0,0,0]\n",
    "\n",
    "def nex():\n",
    "    global counter\n",
    "    if(counter<5):\n",
    "        counter=counter+1\n",
    "        ques.set(str(q[counter-1]))\n",
    "        \n",
    "    else:\n",
    "        messagebox.showwarning(\"Limit Exceeded\",\"Sorry, No more questions available!\")\n",
    "\n",
    "def prev():\n",
    "    global counter\n",
    "    if(counter>1):\n",
    "        counter=counter-1\n",
    "        ques.set(str(q[counter-1]))\n",
    "    else:\n",
    "        messagebox.showwarning(\"Limit Exceeded\",\"This is the first question!\")\n",
    "\n",
    "def finish():  \n",
    "    s=0\n",
    "    for i in totmark:\n",
    "        s=s+i\n",
    "    one = str(totmark[0])\n",
    "    two = str(totmark[1])\n",
    "    three = str(totmark[2])\n",
    "    four = str(totmark[3])\n",
    "    five = str(totmark[4])\n",
    "    for i in range(5):\n",
    "        if totmark[i]<=0.5:\n",
    "            if i==0:\n",
    "                rem1 = \"Not Known\"\n",
    "            if i==1:\n",
    "                rem2 = \"Not Known\"\n",
    "            if i==2:\n",
    "                rem3 = \"Not Known\"\n",
    "            if i==3:\n",
    "                rem4 = \"Not Known\"\n",
    "            if i==4:\n",
    "                rem5 = \"Not Known\"     \n",
    "        if totmark[i]>0.5 and totmark[i]<=1:\n",
    "            if i==0:\n",
    "                rem1 = \"Vaguely Understood\"\n",
    "            if i==1:\n",
    "                rem2 = \"Vaguely Understood\"\n",
    "            if i==2:\n",
    "                rem3 = \"Vaguely Understood\"\n",
    "            if i==3:\n",
    "                rem4 = \"Vaguely Understood\"\n",
    "            if i==4:\n",
    "                rem5 = \"Vaguely Understood\"\n",
    "        if totmark[i]>1 and totmark[i]<=1.5:\n",
    "            if i==0:\n",
    "                rem1 = \"Moderately Understood\"\n",
    "            if i==1:\n",
    "                rem2 = \"Moderately Understood\"\n",
    "            if i==2:\n",
    "                rem3 = \"Moderately Understood\"\n",
    "            if i==3:\n",
    "                rem4 = \"Moderately Understood\"\n",
    "            if i==4:\n",
    "                rem5 = \"Moderately Understood\"\n",
    "        if totmark[i]>1.5:\n",
    "            if i==0:\n",
    "                rem1 = \"Satisfactory\"\n",
    "            if i==1:\n",
    "                rem2 = \"Satisfactory\"\n",
    "            if i==2:\n",
    "                rem3 = \"Satisfactory\"\n",
    "            if i==3:\n",
    "                rem4 = \"Satisfactory\"\n",
    "            if i==4:\n",
    "                rem5 = \"Satisfactory\" \n",
    "    messagebox.showinfo(\"Results\",\"Marks for first question = \"+one+\"\\nMarks for second question = \"+two+\"\\nMarks for third question = \"+three+\"\\nMarks for fourth question = \"+four+\"\\nMarks for fifth question = \"+five+\"\\n\\nThe total score obtained in the test=\"+str(s)+\"/10\\n\\nRemarks from the teacher : \\n\\tFor Question 1: \"+rem1+\"\\n\\tFor Question 2: \"+rem2+\"\\n\\tFor Question 3: \"+rem3+\"\\n\\tFor Question 4: \"+rem4+\"\\n\\tFor Question 5: \"+rem5)  \n",
    "\n",
    "def enFunc():\n",
    "    \n",
    "    global counter\n",
    "    \n",
    "    ans = entry.get('1.0','end')\n",
    "    n=0\n",
    "    for line in ans:\n",
    "        words=[line.split(' ') for line in ans]\n",
    "    n=len(words)\n",
    "    if(n>=37):\n",
    "        marks1=5\n",
    "    elif(n>=27):\n",
    "        marks1=3\n",
    "    else:\n",
    "        marks1=0\n",
    "            \n",
    "    a=marks1\n",
    "    \n",
    "    fname=\"C:/Users/Sangamithra/CIP/Subjective-Answer-Evaluation/docs/mp\"+str(counter)+\".txt\"\n",
    "\n",
    "\n",
    "    stoppath = \"C:/Users/Sangamithra/CIP/Subjective-Answer-Evaluation/stoplists/SmartStoplist.txt\"\n",
    "\n",
    "    rake_object = rake.Rake(stoppath)\n",
    "    sample_file = io.open(fname, 'r',encoding=\"iso-8859-1\")\n",
    "    text = ans\n",
    "\n",
    "    sentenceList = rake.split_sentences(text)\n",
    "    stopwords = rake.load_stop_words(stoppath)\n",
    "    stopwordpattern = rake.build_stop_word_regex(stoppath)\n",
    "    phraseList = rake.generate_candidate_keywords(sentenceList, stopwordpattern, stopwords)\n",
    "\n",
    "    wordscores = rake.calculate_word_scores(phraseList)\n",
    "\n",
    "    keywordcandidates = rake.generate_candidate_keyword_scores(phraseList, wordscores)\n",
    "    keyw=dict(rake_object.run(text))\n",
    "    f1=io.open(fname, 'r',encoding=\"iso-8859-1\")\n",
    "    text1=f1.read()\n",
    "    que=text1.split(\"\\n\")\n",
    "    print(que[0])\n",
    "    l=text1.split(\"\\n\\n\")\n",
    "    kw=l[2].split(\"\\n\")\n",
    "    print(\"Keyword in original file = \",kw)\n",
    "    total=len(kw)\n",
    "    print(\"No of keywords in original file = \",total)\n",
    "\n",
    "    c=0\n",
    "    for i in keyw:\n",
    "        for j in range(0,total):\n",
    "            if(kw[j].lower() in i.lower()):\n",
    "                print(\"Detected = \" +str(i))\n",
    "                c=c+1\n",
    "    print(\"Count = \",c)\n",
    "\n",
    "    percentage=(c/total)*100\n",
    "\n",
    "    if(percentage>=90):\n",
    "        marks2=35\n",
    "        message = \"Marks obtained for keyword:\" + str(marks2) + \"/30\"\n",
    "\n",
    "    elif(percentage>=80 and percentage<90):\n",
    "        marks2=33\n",
    "        message = \"Marks obtained for keyword:\"+ str(marks2) + \"/30\"\n",
    "\n",
    "    elif(percentage>=70 and percentage<80):\n",
    "        marks2=30\n",
    "        message = \"Marks obtained for keyword:\" + str(marks2) + \"/30\"\n",
    "\n",
    "    elif(percentage>=60 and percentage<80):\n",
    "        marks2=27\n",
    "        message = \"Marks obtained for keyword:\" + str(marks2) + \"/30\"\n",
    "\n",
    "    elif(percentage>=50 and percentage<60):\n",
    "        marks2=25\n",
    "        message = \"Marks obtained for keyword:\" + str(marks2) + \"/30\"\n",
    "\n",
    "    elif(percentage>=40 and percentage<50): \n",
    "        marks2=20\n",
    "        message = \"Marks obtained for keyword:\" + str(marks2) + \"/30\"\n",
    "        \n",
    "    else:\n",
    "        marks2 = 0\n",
    "        message = \"Marks obtained for keyword:\" + str(marks2) + \"/30\"\n",
    "   \n",
    "    b=marks2\n",
    "\n",
    "    tool=language_check.LanguageTool('en-US')\n",
    "\n",
    "    count=0\n",
    "    text=str(ans)\n",
    "    txtlen=len(text.split())\n",
    "    setxt = set(text.split())\n",
    "    setlen = len(setxt)\n",
    "    matches=tool.check(text)\n",
    "    print(\"No. of Errors = \",len(matches))\n",
    "    noOfError=len(matches)\n",
    "    for i in range (0,noOfError):\n",
    "        print(matches[i].msg)\n",
    "    \n",
    "    if (noOfError<=3 and n>0):\n",
    "        marks3=10\n",
    "    elif (noOfError<=5):\n",
    "        marks3=8\n",
    "    elif (noOfError<=8):\n",
    "        marks3=5\n",
    "    else:\n",
    "        marks3=0\n",
    "    print(\"Marks obtained after parsing =\",marks3,\"/10\")\n",
    "    c=marks3\n",
    "    d=a+b+c\n",
    "\n",
    "    print(\"Marks obtained out of 50 is =\",d,\"/50\")\n",
    "    tot=(d/50)*2\n",
    "    global totmark\n",
    "    totmark[counter-1]=tot\n",
    "\n",
    "def showrpt():\n",
    "    objects = ('Question 1', 'Question 2', 'Question 3','Question 4','Question 5')\n",
    "    y_pos = np.arange(len(objects))\n",
    "    performance = [totmark[0],totmark[1],totmark[2],totmark[3],totmark[4]]\n",
    "    plt.xlim(0, 2)\n",
    "    plt.barh(y_pos, performance, align='center', alpha=0.5,color=\"yellow\")\n",
    "    plt.yticks(y_pos, objects)\n",
    "\n",
    "    plt.xlabel('Student\\'s understanding level')\n",
    "    plt.title('Student\\'s knowledge analysis')\n",
    "    plt.show() \n",
    "\n",
    "root = Tk()\n",
    "root.geometry('800x1800')\n",
    "label= Label(root,text=\"ANSWER ALL THE FOLLOWING QUESTIONS\",bg=\"lightyellow\",bd=20)\n",
    "label.place(x=300,y=10)\n",
    "\n",
    "ques= StringVar()\n",
    "ques.set(str(q[counter-1]))\n",
    "labelQ=Label(root,textvariable=ques,text=str(q[0]),width=100, bg=\"lightyellow\", bd=20)\n",
    "labelQ.place(x=10,y=100)\n",
    "\n",
    "entry= Text(root)\n",
    "entry.place(x=100,y=200)\n",
    "\n",
    "prevBtn= Button(root, text = '<', command = prev)\n",
    "prevBtn.place(x=120,y=600)\n",
    "\n",
    "button1= Button(root, text = 'Submit', command = enFunc)\n",
    "button1.place(x=400,y=600)\n",
    "\n",
    "nextBtn= Button(root, text = '>', command = nex)\n",
    "nextBtn.place(x=700,y=600)\n",
    "\n",
    "finishbtn=Button(root,text='Finish',command=finish)\n",
    "finishbtn.place(x=300,y=650)\n",
    "\n",
    "showrpt=Button(root,text='Show report',command=showrpt)\n",
    "showrpt.place(x=500,y=650)\n",
    "\n",
    "root.mainloop()"
   ]
  },
  {
   "cell_type": "markdown",
   "metadata": {},
   "source": [
    "EVALUATION PARAMETERS"
   ]
  },
  {
   "cell_type": "markdown",
   "metadata": {},
   "source": [
    "SHANNON'S ENTROPY"
   ]
  },
  {
   "cell_type": "code",
   "execution_count": 16,
   "metadata": {},
   "outputs": [
    {
     "name": "stdout",
     "output_type": "stream",
     "text": [
      "Entropy of Teacher's Key answer:\n",
      "4.198224622770984\n",
      "Entropy of Student's Response:\n",
      "4.067860128565114\n"
     ]
    }
   ],
   "source": [
    "import collections\n",
    "import math\n",
    " \n",
    " \n",
    "def estimate_shannon_entropy(dna_sequence):\n",
    "    m = len(dna_sequence)\n",
    "    bases = collections.Counter([tmp_base for tmp_base in dna_sequence])\n",
    " \n",
    "    shannon_entropy_value = 0\n",
    "    for base in bases:\n",
    "        # number of residues\n",
    "        n_i = bases[base]\n",
    "        # n_i (# residues type i) / M (# residues in column)\n",
    "        p_i = n_i / float(m)\n",
    "        entropy_i = p_i * (math.log(p_i, 2))\n",
    "        shannon_entropy_value += entropy_i\n",
    " \n",
    "    return shannon_entropy_value * -1\n",
    "print(\"Entropy of Teacher's Key answer:\")\n",
    "print(estimate_shannon_entropy(\" LR parsers can be constructed to recognize most of the programming languages for which the context free grammar can be written. The class of grammar that can be parsed by LR parser is a superset of class of grammars that can be parsed using predictive parsers. LR parsers work using non backtracking shift reduce technique yet it is efficient one.\"))\n",
    "print(\"Entropy of Student's Response:\")\n",
    "print(estimate_shannon_entropy(\"Works on smallest class of grammar Few number of states Simple and fast construction\"))"
   ]
  },
  {
   "cell_type": "markdown",
   "metadata": {},
   "source": [
    "PERPLEXITY"
   ]
  },
  {
   "cell_type": "code",
   "execution_count": 17,
   "metadata": {},
   "outputs": [
    {
     "name": "stdout",
     "output_type": "stream",
     "text": [
      "Perplexity of Teacher's answer:\n",
      "4.3326355678326784\n",
      "Perplexity of Student's answer:\n",
      "4.937745877508692\n"
     ]
    }
   ],
   "source": [
    "import math\n",
    "import torch\n",
    "from flair.embeddings import FlairEmbeddings\n",
    "\n",
    "# get language model\n",
    "model = FlairEmbeddings('news-forward').lm\n",
    "\n",
    "# example text\n",
    "text = 'LR parsers can be constructed to recognize most of the programming languages for which the context free grammar can be written. The class of grammar that can be parsed by LR parser is a superset of class of grammars that can be parsed using predictive parsers. LR parsers work using non backtracking shift reduce technique yet it is efficient one.'\n",
    "input = torch.tensor([model.dictionary.get_idx_for_item(char) for char in text[:-1]]).unsqueeze(1)\n",
    "\n",
    "# push list of character IDs through model\n",
    "hidden = model.init_hidden(1)\n",
    "prediction, _, hidden = model.forward(input, hidden)\n",
    "\n",
    "# the target is always the next character\n",
    "targets = torch.tensor([model.dictionary.get_idx_for_item(char) for char in text[1:]])\n",
    "\n",
    "# use cross entropy loss to compare output of forward pass with targets\n",
    "cross_entroy_loss = torch.nn.CrossEntropyLoss()\n",
    "loss = cross_entroy_loss(prediction.view(-1, len(model.dictionary)), targets).item()\n",
    "\n",
    "# exponentiate cross-entropy loss to calculate perplexity\n",
    "perplexity = math.exp(loss)\n",
    "\n",
    "print(\"Perplexity of Teacher's answer:\")\n",
    "print(perplexity)\n",
    "\n",
    "\n",
    "text2='Works on smallest class of grammar Few number of states Simple and fast construction'\n",
    "input = torch.tensor([model.dictionary.get_idx_for_item(char) for char in text2[:-1]]).unsqueeze(1)\n",
    "\n",
    "# push list of character IDs through model\n",
    "hidden = model.init_hidden(1)\n",
    "prediction, _, hidden = model.forward(input, hidden)\n",
    "\n",
    "# the target is always the next character\n",
    "targets = torch.tensor([model.dictionary.get_idx_for_item(char) for char in text2[1:]])\n",
    "\n",
    "# use cross entropy loss to compare output of forward pass with targets\n",
    "cross_entroy_loss = torch.nn.CrossEntropyLoss()\n",
    "loss = cross_entroy_loss(prediction.view(-1, len(model.dictionary)), targets).item()\n",
    "\n",
    "# exponentiate cross-entropy loss to calculate perplexity\n",
    "perplexity2 = math.exp(loss)\n",
    "\n",
    "print(\"Perplexity of Student's answer:\")\n",
    "print(perplexity2)"
   ]
  },
  {
   "cell_type": "markdown",
   "metadata": {},
   "source": [
    "COSINE SIMILARITY"
   ]
  },
  {
   "cell_type": "code",
   "execution_count": 2,
   "metadata": {},
   "outputs": [
    {
     "name": "stdout",
     "output_type": "stream",
     "text": [
      "Cosine similarity :  0.49497\n"
     ]
    }
   ],
   "source": [
    "#Cosine similarity between two sentences\n",
    "\n",
    "def Counter(m): \n",
    "\tj= dict()\n",
    "\tfor word in m:\n",
    "\t\tif word in j:\t\t\t#word found-- increment count\n",
    "\t\t\tj[word]=j[word]+1\n",
    "\t\telse:\t\t\t\t#word not found. Add to dictionary\n",
    "\t\t\tj.update({word:1})\n",
    "\treturn j\n",
    "\n",
    "def sqr(a):\n",
    "\n",
    "     i=0.000\n",
    "     while((i**2)<a):\n",
    "     \ti=i+0.000001\t    \n",
    "     return i\n",
    "   \n",
    "def take_cosine(vec1, vec2):\n",
    "\n",
    "     intersection = set(vec1.keys()) & set(vec2.keys())\n",
    "     n = sum([vec1[x] * vec2[x] for x in intersection]) #numerator\n",
    "     \n",
    "     sum1 = sum([vec1[x]**2 for x in vec1])\n",
    "     sum2 = sum([vec2[x]**2 for x in vec2])\n",
    "     d = sqr(sum1) * sqr(sum2)\t\t\t\t#denominator\n",
    "\n",
    "     if not d:\n",
    "        return 0.0\n",
    "     else:\n",
    "        return float(n) / d\n",
    "\n",
    "def text_to_vector(text):\n",
    "     \n",
    "     words =text.split()\n",
    "     return Counter(words)\n",
    "\n",
    "sentence1 = \"A compiler is a program that reads a program written in one language- the source language and translates it into an equivalent program in another language-the target language. The compiler reports to its user the presence of errors in the source program \"\n",
    "sentence2 = \"A compiler is a special program that processes statements written in a particular programming language and turns them into machine language\\n\"\n",
    "\n",
    "vector1 = text_to_vector(sentence1)\n",
    "vector2 = text_to_vector(sentence2)\n",
    "\n",
    "cosine = take_cosine(vector1, vector2)\n",
    "\n",
    "print (\"Cosine similarity : \", round(cosine,5))"
   ]
  },
  {
   "cell_type": "code",
   "execution_count": 3,
   "metadata": {},
   "outputs": [
    {
     "name": "stdout",
     "output_type": "stream",
     "text": [
      "Cosine similarity :  0.22502\n"
     ]
    }
   ],
   "source": [
    "#Cosine similarity between two sentences\n",
    "\n",
    "def Counter(m): \n",
    "\tj= dict()\n",
    "\tfor word in m:\n",
    "\t\tif word in j:\t\t\t#word found-- increment count\n",
    "\t\t\tj[word]=j[word]+1\n",
    "\t\telse:\t\t\t\t#word not found. Add to dictionary\n",
    "\t\t\tj.update({word:1})\n",
    "\treturn j\n",
    "\n",
    "def sqr(a):\n",
    "\n",
    "     i=0.000\n",
    "     while((i**2)<a):\n",
    "     \ti=i+0.000001\t    \n",
    "     return i\n",
    "   \n",
    "def take_cosine(vec1, vec2):\n",
    "\n",
    "     intersection = set(vec1.keys()) & set(vec2.keys())\n",
    "     n = sum([vec1[x] * vec2[x] for x in intersection]) #numerator\n",
    "     \n",
    "     sum1 = sum([vec1[x]**2 for x in vec1])\n",
    "     sum2 = sum([vec2[x]**2 for x in vec2])\n",
    "     d = sqr(sum1) * sqr(sum2)\t\t\t\t#denominator\n",
    "\n",
    "     if not d:\n",
    "        return 0.0\n",
    "     else:\n",
    "        return float(n) / d\n",
    "\n",
    "def text_to_vector(text):\n",
    "     \n",
    "     words =text.split()\n",
    "     return Counter(words)\n",
    "\n",
    "sentence1 = \"Analysis and synthesis are the two parts of compilation. The analysis part breaks up the source program into constituent pieces and creates an intermediate representation of the source program. The synthesis part constructs the desired target program from the intermediate representation\"\n",
    "sentence2 = \"There are two parts to compilation: analysis and synthesis.\"\n",
    "\n",
    "vector1 = text_to_vector(sentence1)\n",
    "vector2 = text_to_vector(sentence2)\n",
    "\n",
    "cosine = take_cosine(vector1, vector2)\n",
    "\n",
    "print (\"Cosine similarity : \", round(cosine,5))"
   ]
  },
  {
   "cell_type": "code",
   "execution_count": 4,
   "metadata": {},
   "outputs": [
    {
     "name": "stdout",
     "output_type": "stream",
     "text": [
      "Cosine similarity :  0.3935\n"
     ]
    }
   ],
   "source": [
    "#Cosine similarity between two sentences\n",
    "\n",
    "def Counter(m): \n",
    "\tj= dict()\n",
    "\tfor word in m:\n",
    "\t\tif word in j:\t\t\t#word found-- increment count\n",
    "\t\t\tj[word]=j[word]+1\n",
    "\t\telse:\t\t\t\t#word not found. Add to dictionary\n",
    "\t\t\tj.update({word:1})\n",
    "\treturn j\n",
    "\n",
    "def sqr(a):\n",
    "\n",
    "     i=0.000\n",
    "     while((i**2)<a):\n",
    "     \ti=i+0.000001\t    \n",
    "     return i\n",
    "   \n",
    "def take_cosine(vec1, vec2):\n",
    "\n",
    "     intersection = set(vec1.keys()) & set(vec2.keys())\n",
    "     n = sum([vec1[x] * vec2[x] for x in intersection]) #numerator\n",
    "     \n",
    "     sum1 = sum([vec1[x]**2 for x in vec1])\n",
    "     sum2 = sum([vec2[x]**2 for x in vec2])\n",
    "     d = sqr(sum1) * sqr(sum2)\t\t\t\t#denominator\n",
    "\n",
    "     if not d:\n",
    "        return 0.0\n",
    "     else:\n",
    "        return float(n) / d\n",
    "\n",
    "def text_to_vector(text):\n",
    "     \n",
    "     words =text.split()\n",
    "     return Counter(words)\n",
    "\n",
    "\n",
    "sentence1 = \"The symbol table is a data structure containing a record for each identifier, with fields for the attributes of the identifier. The data structure alloes us to find the record for each identifier quickly and to store or retieve data from that record quickly. Whenever an identifier is detected by a lexical analyzer, it is entered into the symbol table. The attributes of an identifier is detected by a lexicla analyzer\"\n",
    "sentence2 = \"Symbol Table is an important data structure created and maintained by the compiler in order to keep track of semantics of variable\"\n",
    "\n",
    "vector1 = text_to_vector(sentence1)\n",
    "vector2 = text_to_vector(sentence2)\n",
    "\n",
    "cosine = take_cosine(vector1, vector2)\n",
    "\n",
    "print (\"Cosine similarity : \", round(cosine,5))"
   ]
  },
  {
   "cell_type": "code",
   "execution_count": 5,
   "metadata": {},
   "outputs": [
    {
     "name": "stdout",
     "output_type": "stream",
     "text": [
      "Cosine similarity :  0.10127\n"
     ]
    }
   ],
   "source": [
    "#Cosine similarity between two sentences\n",
    "\n",
    "def Counter(m): \n",
    "\tj= dict()\n",
    "\tfor word in m:\n",
    "\t\tif word in j:\t\t\t#word found-- increment count\n",
    "\t\t\tj[word]=j[word]+1\n",
    "\t\telse:\t\t\t\t#word not found. Add to dictionary\n",
    "\t\t\tj.update({word:1})\n",
    "\treturn j\n",
    "\n",
    "def sqr(a):\n",
    "\n",
    "     i=0.000\n",
    "     while((i**2)<a):\n",
    "     \ti=i+0.000001\t    \n",
    "     return i\n",
    "   \n",
    "def take_cosine(vec1, vec2):\n",
    "\n",
    "     intersection = set(vec1.keys()) & set(vec2.keys())\n",
    "     n = sum([vec1[x] * vec2[x] for x in intersection]) #numerator\n",
    "     \n",
    "     sum1 = sum([vec1[x]**2 for x in vec1])\n",
    "     sum2 = sum([vec2[x]**2 for x in vec2])\n",
    "     d = sqr(sum1) * sqr(sum2)\t\t\t\t#denominator\n",
    "\n",
    "     if not d:\n",
    "        return 0.0\n",
    "     else:\n",
    "        return float(n) / d\n",
    "\n",
    "def text_to_vector(text):\n",
    "     \n",
    "     words =text.split()\n",
    "     return Counter(words)\n",
    "\n",
    "\n",
    "sentence1 = \"The following are the various phases of a a compiler : Lexical analyzer, Syntax analyzer, Semantic analyzer, Intermediate code generator, Code optimizer\"\n",
    "sentence2 = \"We basically have two phases of compilers, namely Analysis phase and Synthesis phase.\"\n",
    "\n",
    "vector1 = text_to_vector(sentence1)\n",
    "vector2 = text_to_vector(sentence2)\n",
    "\n",
    "cosine = take_cosine(vector1, vector2)\n",
    "\n",
    "print (\"Cosine similarity : \", round(cosine,5))"
   ]
  },
  {
   "cell_type": "code",
   "execution_count": 6,
   "metadata": {},
   "outputs": [
    {
     "name": "stdout",
     "output_type": "stream",
     "text": [
      "Cosine similarity :  0.368\n"
     ]
    }
   ],
   "source": [
    "#Cosine similarity between two sentences\n",
    "\n",
    "def Counter(m): \n",
    "\tj= dict()\n",
    "\tfor word in m:\n",
    "\t\tif word in j:\t\t\t#word found-- increment count\n",
    "\t\t\tj[word]=j[word]+1\n",
    "\t\telse:\t\t\t\t#word not found. Add to dictionary\n",
    "\t\t\tj.update({word:1})\n",
    "\treturn j\n",
    "\n",
    "def sqr(a):\n",
    "\n",
    "     i=0.000\n",
    "     while((i**2)<a):\n",
    "     \ti=i+0.000001\t    \n",
    "     return i\n",
    "   \n",
    "def take_cosine(vec1, vec2):\n",
    "\n",
    "     intersection = set(vec1.keys()) & set(vec2.keys())\n",
    "     n = sum([vec1[x] * vec2[x] for x in intersection]) #numerator\n",
    "     \n",
    "     sum1 = sum([vec1[x]**2 for x in vec1])\n",
    "     sum2 = sum([vec2[x]**2 for x in vec2])\n",
    "     d = sqr(sum1) * sqr(sum2)\t\t\t\t#denominator\n",
    "\n",
    "     if not d:\n",
    "        return 0.0\n",
    "     else:\n",
    "        return float(n) / d\n",
    "\n",
    "def text_to_vector(text):\n",
    "     \n",
    "     words =text.split()\n",
    "     return Counter(words)\n",
    "\n",
    "sentence1 = \"LR parsers are constructed to recognise most of the programming languages for which the context free grammar can be written. The class of grammar that can be parsed by LR parser us a superset of class odf grammars that can be parsed using predictive parsers. LR parsers work using non backtracking shift reduce technique yet it is sufficient one \"\n",
    "sentence2 = \"The LR parser is a non recursive, shift reduce, bottom up parser. It uses a wide class of context-free grammar\"\n",
    "\n",
    "\n",
    "vector1 = text_to_vector(sentence1)\n",
    "vector2 = text_to_vector(sentence2)\n",
    "\n",
    "cosine = take_cosine(vector1, vector2)\n",
    "\n",
    "print (\"Cosine similarity : \", round(cosine,5))"
   ]
  },
  {
   "cell_type": "markdown",
   "metadata": {},
   "source": [
    "JACCARD SIMILARITY"
   ]
  },
  {
   "cell_type": "code",
   "execution_count": 7,
   "metadata": {},
   "outputs": [
    {
     "data": {
      "text/plain": [
       "0.2631578947368421"
      ]
     },
     "execution_count": 7,
     "metadata": {},
     "output_type": "execute_result"
    }
   ],
   "source": [
    "from __future__ import division\n",
    "import string\n",
    "import math\n",
    " \n",
    "tokenize = lambda doc: doc.lower().split(\" \")\n",
    "\n",
    "\n",
    "document_1 = \"A compiler is a program that reads a program written in one language- the source language and translates it into an equivalent program in another language-the target language. The compiler reports to its user the presence of errors in the source program\"\n",
    "document_2 = \"A compiler is a special program that processes statements written in a particular programming language and turns them into machine language\"\n",
    "\n",
    "all_documents = [document_1, document_2]\n",
    "\n",
    "tokenized_documents = [tokenize(d) for d in all_documents]\n",
    "all_tokens_set = set([item for sublist in tokenized_documents for item in sublist])\n",
    "\n",
    "def jaccard_similarity(query, document):\n",
    "    intersection = set(query).intersection(set(document))\n",
    "    union = set(query).union(set(document))\n",
    "    return len(intersection)/len(union)\n",
    " \n",
    "    \n",
    "jaccard_similarity(tokenized_documents[0],tokenized_documents[1])"
   ]
  },
  {
   "cell_type": "code",
   "execution_count": 8,
   "metadata": {},
   "outputs": [
    {
     "data": {
      "text/plain": [
       "0.16666666666666666"
      ]
     },
     "execution_count": 8,
     "metadata": {},
     "output_type": "execute_result"
    }
   ],
   "source": [
    "from __future__ import division\n",
    "import string\n",
    "import math\n",
    " \n",
    "tokenize = lambda doc: doc.lower().split(\" \")\n",
    "\n",
    "\n",
    "document_1 = \"Analysis and synthesis are the two parts of compilation. The analysis part breaks up the source program into constituent pieces and creates an intermediate representation of the source program. The synthesis part constructs the desired target program from the intermediate representation\"\n",
    "document_2 = \"There are two parts to compilation: analysis and synthesis.\"\n",
    "\n",
    "all_documents = [document_1, document_2]\n",
    "\n",
    "tokenized_documents = [tokenize(d) for d in all_documents]\n",
    "all_tokens_set = set([item for sublist in tokenized_documents for item in sublist])\n",
    "\n",
    "def jaccard_similarity(query, document):\n",
    "    intersection = set(query).intersection(set(document))\n",
    "    union = set(query).union(set(document))\n",
    "    return len(intersection)/len(union)\n",
    " \n",
    "    \n",
    "jaccard_similarity(tokenized_documents[0],tokenized_documents[1])"
   ]
  },
  {
   "cell_type": "code",
   "execution_count": 9,
   "metadata": {},
   "outputs": [
    {
     "data": {
      "text/plain": [
       "0.21153846153846154"
      ]
     },
     "execution_count": 9,
     "metadata": {},
     "output_type": "execute_result"
    }
   ],
   "source": [
    "from __future__ import division\n",
    "import string\n",
    "import math\n",
    " \n",
    "tokenize = lambda doc: doc.lower().split(\" \")\n",
    "\n",
    "\n",
    "document_1 = \"The symbol table is a data structure containing a record for each identifier, with fields for the attributes of the identifier. The data structure alloes us to find the record for each identifier quickly and to store or retieve data from that record quickly. Whenever an identifier is detected by a lexical analyzer, it is entered into the symbol table. The attributes of an identifier is detected by a lexicla analyzer\"\n",
    "document_2 = \"Symbol Table is an important data structure created and maintained by the compiler in order to keep track of semantics of variable\"\n",
    "\n",
    "all_documents = [document_1, document_2]\n",
    "\n",
    "tokenized_documents = [tokenize(d) for d in all_documents]\n",
    "all_tokens_set = set([item for sublist in tokenized_documents for item in sublist])\n",
    "\n",
    "def jaccard_similarity(query, document):\n",
    "    intersection = set(query).intersection(set(document))\n",
    "    union = set(query).union(set(document))\n",
    "    return len(intersection)/len(union)\n",
    " \n",
    "    \n",
    "jaccard_similarity(tokenized_documents[0],tokenized_documents[1])"
   ]
  },
  {
   "cell_type": "code",
   "execution_count": 10,
   "metadata": {},
   "outputs": [
    {
     "data": {
      "text/plain": [
       "0.07142857142857142"
      ]
     },
     "execution_count": 10,
     "metadata": {},
     "output_type": "execute_result"
    }
   ],
   "source": [
    "from __future__ import division\n",
    "import string\n",
    "import math\n",
    " \n",
    "tokenize = lambda doc: doc.lower().split(\" \")\n",
    "\n",
    "\n",
    "document_1 = \"The following are the various phases of a a compiler : Lexical analyzer, Syntax analyzer, Semantic analyzer, Intermediate code generator, Code optimizer\"\n",
    "document_2 = \"We basically have two phases of compilers, namely Analysis phase and Synthesis phase.\"\n",
    "\n",
    "all_documents = [document_1, document_2]\n",
    "\n",
    "tokenized_documents = [tokenize(d) for d in all_documents]\n",
    "all_tokens_set = set([item for sublist in tokenized_documents for item in sublist])\n",
    "\n",
    "def jaccard_similarity(query, document):\n",
    "    intersection = set(query).intersection(set(document))\n",
    "    union = set(query).union(set(document))\n",
    "    return len(intersection)/len(union)\n",
    " \n",
    "    \n",
    "jaccard_similarity(tokenized_documents[0],tokenized_documents[1])"
   ]
  },
  {
   "cell_type": "code",
   "execution_count": 11,
   "metadata": {},
   "outputs": [
    {
     "data": {
      "text/plain": [
       "0.21153846153846154"
      ]
     },
     "execution_count": 11,
     "metadata": {},
     "output_type": "execute_result"
    }
   ],
   "source": [
    "from __future__ import division\n",
    "import string\n",
    "import math\n",
    " \n",
    "tokenize = lambda doc: doc.lower().split(\" \")\n",
    "\n",
    "document_1 = \"LR parsers are constructed to recognise most of the programming languages for which the context free grammar can be written. The class of grammar that can be parsed by LR parser us a superset of class odf grammars that can be parsed using predictive parsers. LR parsers work using non backtracking shift reduce technique yet it is sufficient one \"\n",
    "document_2 = \"The LR parser is a non recursive, shift reduce, bottom up parser. It uses a wide class of context-free grammar\"\n",
    "\n",
    "all_documents = [document_1, document_2]\n",
    "\n",
    "tokenized_documents = [tokenize(d) for d in all_documents]\n",
    "all_tokens_set = set([item for sublist in tokenized_documents for item in sublist])\n",
    "\n",
    "def jaccard_similarity(query, document):\n",
    "    intersection = set(query).intersection(set(document))\n",
    "    union = set(query).union(set(document))\n",
    "    return len(intersection)/len(union)\n",
    " \n",
    "    \n",
    "jaccard_similarity(tokenized_documents[0],tokenized_documents[1])"
   ]
  },
  {
   "cell_type": "markdown",
   "metadata": {},
   "source": [
    "TERM FREQUENCY - INVERSE DOCUMENT FREQUENCY"
   ]
  },
  {
   "cell_type": "code",
   "execution_count": 12,
   "metadata": {},
   "outputs": [
    {
     "name": "stdout",
     "output_type": "stream",
     "text": [
      "1.0\n"
     ]
    }
   ],
   "source": [
    "from __future__ import division\n",
    "import string\n",
    "import math\n",
    " \n",
    "tokenize = lambda doc: doc.lower().split(\" \")\n",
    "\n",
    "document_1 = \"A compiler is a program that reads a program written in one language- the source language and translates it into an equivalent program in another language-the target language. The compiler reports to its user the presence of errors in the source program\"\n",
    "document_2 = \"A compiler is a special program that processes statements written in a particular programming language and turns them into machine language\"\n",
    "\n",
    "\n",
    "all_documents = [document_1, document_2]\n",
    "\n",
    "tokenized_documents = [tokenize(d) for d in all_documents]\n",
    "all_tokens_set = set([item for sublist in tokenized_documents for item in sublist])\n",
    "\n",
    "def term_frequency(term, tokenized_document):\n",
    "    return tokenized_document.count(term)\n",
    " \n",
    "def sublinear_term_frequency(term, tokenized_document):\n",
    "    count = tokenized_document.count(term)\n",
    "    if count == 0:\n",
    "        return 0\n",
    "    return 1 + math.log(count)\n",
    " \n",
    "def augmented_term_frequency(term, tokenized_document):\n",
    "    max_count = max([term_frequency(t, tokenized_document) for t in tokenized_document])\n",
    "    return (0.5 + ((0.5 * term_frequency(term, tokenized_document))/max_count))\n",
    " \n",
    "def inverse_document_frequencies(tokenized_documents):\n",
    "    idf_values = {}\n",
    "    all_tokens_set = set([item for sublist in tokenized_documents for item in sublist])\n",
    "    for tkn in all_tokens_set:\n",
    "        contains_token = map(lambda doc: tkn in doc, tokenized_documents)\n",
    "        idf_values[tkn] = 1 + math.log(len(tokenized_documents)/(sum(contains_token)))\n",
    "    return idf_values\n",
    " \n",
    "def tfidf(documents):\n",
    "    tokenized_documents = [tokenize(d) for d in documents]\n",
    "    idf = inverse_document_frequencies(tokenized_documents)\n",
    "    tfidf_documents = []\n",
    "    for document in tokenized_documents:\n",
    "        doc_tfidf = []\n",
    "        for term in idf.keys():\n",
    "            tf = sublinear_term_frequency(term, document)\n",
    "            doc_tfidf.append(tf * idf[term])\n",
    "        tfidf_documents.append(doc_tfidf)\n",
    "    return tfidf_documents\n",
    "\n",
    "idf_values = inverse_document_frequencies(tokenized_documents)\n",
    "print(idf_values['program'])"
   ]
  },
  {
   "cell_type": "code",
   "execution_count": 13,
   "metadata": {},
   "outputs": [
    {
     "name": "stdout",
     "output_type": "stream",
     "text": [
      "[1.6931471805599454, 2.09861228866811, 1.6931471805599454, 1.6931471805599454, 1.0, 1.6931471805599454, 0.0, 1.6931471805599454, 1.6931471805599454, 1.0, 1.6931471805599454, 2.386294361119891, 2.09861228866811, 0.0, 1.6931471805599454, 0.0, 0.0, 1.6931471805599454, 1.6931471805599454, 2.8667473750380923, 1.6931471805599454, 1.0, 1.6931471805599454, 1.6931471805599454, 1.6931471805599454, 4.040347569516239, 1.0, 1.6931471805599454, 1.6931471805599454, 1.6931471805599454, 0.0, 1.6931471805599454, 0.0, 1.0, 0.0, 0.0, 1.6931471805599454, 1.0] A compiler is a special program that processes statements written in a particular programming language and turns them into machine language\n"
     ]
    }
   ],
   "source": [
    "tfidf_representation = tfidf(all_documents)\n",
    "print(tfidf_representation[0],document_2)"
   ]
  },
  {
   "cell_type": "code",
   "execution_count": 14,
   "metadata": {},
   "outputs": [
    {
     "name": "stdout",
     "output_type": "stream",
     "text": [
      "1.6931471805599454\n"
     ]
    }
   ],
   "source": [
    "from __future__ import division\n",
    "import string\n",
    "import math\n",
    " \n",
    "tokenize = lambda doc: doc.lower().split(\" \")\n",
    "\n",
    "\n",
    "document_1 = \"Analysis and synthesis are the two parts of compilation. The analysis part breaks up the source program into constituent pieces and creates an intermediate representation of the source program. The synthesis part constructs the desired target program from the intermediate representation\"\n",
    "document_2 = \"There are two parts to compilation: analysis and synthesis.\"\n",
    "\n",
    "all_documents = [document_1, document_2]\n",
    "\n",
    "tokenized_documents = [tokenize(d) for d in all_documents]\n",
    "all_tokens_set = set([item for sublist in tokenized_documents for item in sublist])\n",
    "\n",
    "def term_frequency(term, tokenized_document):\n",
    "    return tokenized_document.count(term)\n",
    " \n",
    "def sublinear_term_frequency(term, tokenized_document):\n",
    "    count = tokenized_document.count(term)\n",
    "    if count == 0:\n",
    "        return 0\n",
    "    return 1 + math.log(count)\n",
    " \n",
    "def augmented_term_frequency(term, tokenized_document):\n",
    "    max_count = max([term_frequency(t, tokenized_document) for t in tokenized_document])\n",
    "    return (0.5 + ((0.5 * term_frequency(term, tokenized_document))/max_count))\n",
    " \n",
    "def inverse_document_frequencies(tokenized_documents):\n",
    "    idf_values = {}\n",
    "    all_tokens_set = set([item for sublist in tokenized_documents for item in sublist])\n",
    "    for tkn in all_tokens_set:\n",
    "        contains_token = map(lambda doc: tkn in doc, tokenized_documents)\n",
    "        idf_values[tkn] = 1 + math.log(len(tokenized_documents)/(sum(contains_token)))\n",
    "    return idf_values\n",
    " \n",
    "def tfidf(documents):\n",
    "    tokenized_documents = [tokenize(d) for d in documents]\n",
    "    idf = inverse_document_frequencies(tokenized_documents)\n",
    "    tfidf_documents = []\n",
    "    for document in tokenized_documents:\n",
    "        doc_tfidf = []\n",
    "        for term in idf.keys():\n",
    "            tf = sublinear_term_frequency(term, document)\n",
    "            doc_tfidf.append(tf * idf[term])\n",
    "        tfidf_documents.append(doc_tfidf)\n",
    "    return tfidf_documents\n",
    "\n",
    "idf_values = inverse_document_frequencies(tokenized_documents)\n",
    "print(idf_values['the'])"
   ]
  },
  {
   "cell_type": "code",
   "execution_count": 15,
   "metadata": {},
   "outputs": [
    {
     "name": "stdout",
     "output_type": "stream",
     "text": [
      "[1.6931471805599454, 1.0, 2.8667473750380923, 0.0, 1.6931471805599454, 0.0, 1.6931471805599454, 2.8667473750380923, 1.0, 1.6931471805599454, 2.8667473750380923, 1.6931471805599454, 2.8667473750380923, 1.6931471805599454, 0.0, 0.0, 2.8667473750380923, 2.8667473750380923, 1.6931471805599454, 1.0, 2.8667473750380923, 1.6931471805599454, 1.6931471805599454, 1.6931471805599454, 4.9878594630559325, 1.6931471805599454, 1.6931471805599454, 1.6931471805599454, 1.6931471805599454, 1.6931471805599454] There are two parts to compilation: analysis and synthesis.\n"
     ]
    }
   ],
   "source": [
    "tfidf_representation = tfidf(all_documents)\n",
    "print(tfidf_representation[0],document_2)"
   ]
  },
  {
   "cell_type": "code",
   "execution_count": 16,
   "metadata": {},
   "outputs": [
    {
     "name": "stdout",
     "output_type": "stream",
     "text": [
      "1.0\n"
     ]
    }
   ],
   "source": [
    "from __future__ import division\n",
    "import string\n",
    "import math\n",
    " \n",
    "tokenize = lambda doc: doc.lower().split(\" \")\n",
    "\n",
    "document_1 = \"The symbol table is a data structure containing a record for each identifier, with fields for the attributes of the identifier. The data structure alloes us to find the record for each identifier quickly and to store or retieve data from that record quickly. Whenever an identifier is detected by a lexical analyzer, it is entered into the symbol table. The attributes of an identifier is detected by a lexicla analyzer\"\n",
    "document_2 = \"Symbol Table is an important data structure created and maintained by the compiler in order to keep track of semantics of variable\"\n",
    "\n",
    "\n",
    "all_documents = [document_1, document_2]\n",
    "\n",
    "tokenized_documents = [tokenize(d) for d in all_documents]\n",
    "all_tokens_set = set([item for sublist in tokenized_documents for item in sublist])\n",
    "\n",
    "def term_frequency(term, tokenized_document):\n",
    "    return tokenized_document.count(term)\n",
    " \n",
    "def sublinear_term_frequency(term, tokenized_document):\n",
    "    count = tokenized_document.count(term)\n",
    "    if count == 0:\n",
    "        return 0\n",
    "    return 1 + math.log(count)\n",
    " \n",
    "def augmented_term_frequency(term, tokenized_document):\n",
    "    max_count = max([term_frequency(t, tokenized_document) for t in tokenized_document])\n",
    "    return (0.5 + ((0.5 * term_frequency(term, tokenized_document))/max_count))\n",
    " \n",
    "def inverse_document_frequencies(tokenized_documents):\n",
    "    idf_values = {}\n",
    "    all_tokens_set = set([item for sublist in tokenized_documents for item in sublist])\n",
    "    for tkn in all_tokens_set:\n",
    "        contains_token = map(lambda doc: tkn in doc, tokenized_documents)\n",
    "        idf_values[tkn] = 1 + math.log(len(tokenized_documents)/(sum(contains_token)))\n",
    "    return idf_values\n",
    " \n",
    "def tfidf(documents):\n",
    "    tokenized_documents = [tokenize(d) for d in documents]\n",
    "    idf = inverse_document_frequencies(tokenized_documents)\n",
    "    tfidf_documents = []\n",
    "    for document in tokenized_documents:\n",
    "        doc_tfidf = []\n",
    "        for term in idf.keys():\n",
    "            tf = sublinear_term_frequency(term, document)\n",
    "            doc_tfidf.append(tf * idf[term])\n",
    "        tfidf_documents.append(doc_tfidf)\n",
    "    return tfidf_documents\n",
    "\n",
    "idf_values = inverse_document_frequencies(tokenized_documents)\n",
    "print(idf_values['table'])"
   ]
  },
  {
   "cell_type": "code",
   "execution_count": 17,
   "metadata": {},
   "outputs": [
    {
     "name": "stdout",
     "output_type": "stream",
     "text": [
      "[1.6931471805599454, 0.0, 4.040347569516239, 1.6931471805599454, 1.6931471805599454, 1.6931471805599454, 0.0, 0.0, 1.6931471805599454, 1.6931471805599454, 1.6931471805599454, 1.6931471805599454, 1.6931471805599454, 2.386294361119891, 0.0, 2.8667473750380923, 1.6931471805599454, 1.6931471805599454, 2.09861228866811, 1.6931471805599454, 1.6931471805599454, 1.6931471805599454, 0.0, 0.0, 2.8667473750380923, 1.6931471805599454, 1.6931471805599454, 1.0, 1.6931471805599454, 1.6931471805599454, 1.6931471805599454, 1.0, 2.9459101490553135, 3.5532594796468646, 0.0, 1.6931471805599454, 1.6931471805599454, 1.6931471805599454, 1.6931471805599454, 3.5532594796468646, 0.0, 0.0, 1.6931471805599454, 1.6931471805599454, 2.8667473750380923, 1.6931471805599454, 1.6931471805599454, 1.6931471805599454, 0.0, 3.5532594796468646, 1.6931471805599454, 1.6931471805599454] Symbol Table is an important data structure created and maintained by the compiler in order to keep track of semantics of variable\n"
     ]
    }
   ],
   "source": [
    "tfidf_representation = tfidf(all_documents)\n",
    "print(tfidf_representation[0],document_2)"
   ]
  },
  {
   "cell_type": "code",
   "execution_count": 18,
   "metadata": {},
   "outputs": [
    {
     "name": "stdout",
     "output_type": "stream",
     "text": [
      "1.0\n"
     ]
    }
   ],
   "source": [
    "from __future__ import division\n",
    "import string\n",
    "import math\n",
    " \n",
    "tokenize = lambda doc: doc.lower().split(\" \")\n",
    "\n",
    "document_1 = \"The following are the various phases of a compiler : Lexical analyzer, Syntax analyzer, Semantic analyzer, Intermediate code generator, Code optimizer\"\n",
    "document_2 = \"We basically have two phases of compilers, namely Analysis phase and Synthesis phase.\"\n",
    "\n",
    "all_documents = [document_1, document_2]\n",
    "\n",
    "tokenized_documents = [tokenize(d) for d in all_documents]\n",
    "all_tokens_set = set([item for sublist in tokenized_documents for item in sublist])\n",
    "\n",
    "def term_frequency(term, tokenized_document):\n",
    "    return tokenized_document.count(term)\n",
    " \n",
    "def sublinear_term_frequency(term, tokenized_document):\n",
    "    count = tokenized_document.count(term)\n",
    "    if count == 0:\n",
    "        return 0\n",
    "    return 1 + math.log(count)\n",
    " \n",
    "def augmented_term_frequency(term, tokenized_document):\n",
    "    max_count = max([term_frequency(t, tokenized_document) for t in tokenized_document])\n",
    "    return (0.5 + ((0.5 * term_frequency(term, tokenized_document))/max_count))\n",
    " \n",
    "def inverse_document_frequencies(tokenized_documents):\n",
    "    idf_values = {}\n",
    "    all_tokens_set = set([item for sublist in tokenized_documents for item in sublist])\n",
    "    for tkn in all_tokens_set:\n",
    "        contains_token = map(lambda doc: tkn in doc, tokenized_documents)\n",
    "        idf_values[tkn] = 1 + math.log(len(tokenized_documents)/(sum(contains_token)))\n",
    "    return idf_values\n",
    " \n",
    "def tfidf(documents):\n",
    "    tokenized_documents = [tokenize(d) for d in documents]\n",
    "    idf = inverse_document_frequencies(tokenized_documents)\n",
    "    tfidf_documents = []\n",
    "    for document in tokenized_documents:\n",
    "        doc_tfidf = []\n",
    "        for term in idf.keys():\n",
    "            tf = sublinear_term_frequency(term, document)\n",
    "            doc_tfidf.append(tf * idf[term])\n",
    "        tfidf_documents.append(doc_tfidf)\n",
    "    return tfidf_documents\n",
    "\n",
    "idf_values = inverse_document_frequencies(tokenized_documents)\n",
    "print(idf_values['of'])"
   ]
  },
  {
   "cell_type": "code",
   "execution_count": 19,
   "metadata": {},
   "outputs": [
    {
     "name": "stdout",
     "output_type": "stream",
     "text": [
      "[0.0, 1.6931471805599454, 1.6931471805599454, 1.6931471805599454, 1.6931471805599454, 1.6931471805599454, 0.0, 1.0, 1.6931471805599454, 0.0, 0.0, 1.0, 0.0, 1.6931471805599454, 0.0, 2.8667473750380923, 0.0, 1.6931471805599454, 2.8667473750380923, 0.0, 3.5532594796468646, 0.0, 1.6931471805599454, 1.6931471805599454, 1.6931471805599454, 0.0, 1.6931471805599454, 0.0] We basically have two phases of compilers, namely Analysis phase and Synthesis phase.\n"
     ]
    }
   ],
   "source": [
    "tfidf_representation = tfidf(all_documents)\n",
    "print(tfidf_representation[0],document_2)"
   ]
  },
  {
   "cell_type": "code",
   "execution_count": 20,
   "metadata": {},
   "outputs": [
    {
     "name": "stdout",
     "output_type": "stream",
     "text": [
      "1.6931471805599454\n"
     ]
    }
   ],
   "source": [
    "from __future__ import division\n",
    "import string\n",
    "import math\n",
    " \n",
    "tokenize = lambda doc: doc.lower().split(\" \")\n",
    "\n",
    "document_1 = \"LR parsers are constructed to recognise most of the programming languages for which the context free grammar can be written. The class of grammar that can be parsed by LR parser us a superset of class odf grammars that can be parsed using predictive parsers. LR parsers work using non backtracking shift reduce technique yet it is sufficient one \"\n",
    "document_2 = \"The LR parser is a non recursive, shift reduce, bottom up parser. It uses a wide class of context-free grammar\"\n",
    "\n",
    "\n",
    "all_documents = [document_1, document_2]\n",
    "\n",
    "tokenized_documents = [tokenize(d) for d in all_documents]\n",
    "all_tokens_set = set([item for sublist in tokenized_documents for item in sublist])\n",
    "\n",
    "def term_frequency(term, tokenized_document):\n",
    "    return tokenized_document.count(term)\n",
    " \n",
    "def sublinear_term_frequency(term, tokenized_document):\n",
    "    count = tokenized_document.count(term)\n",
    "    if count == 0:\n",
    "        return 0\n",
    "    return 1 + math.log(count)\n",
    " \n",
    "def augmented_term_frequency(term, tokenized_document):\n",
    "    max_count = max([term_frequency(t, tokenized_document) for t in tokenized_document])\n",
    "    return (0.5 + ((0.5 * term_frequency(term, tokenized_document))/max_count))\n",
    " \n",
    "def inverse_document_frequencies(tokenized_documents):\n",
    "    idf_values = {}\n",
    "    all_tokens_set = set([item for sublist in tokenized_documents for item in sublist])\n",
    "    for tkn in all_tokens_set:\n",
    "        contains_token = map(lambda doc: tkn in doc, tokenized_documents)\n",
    "        idf_values[tkn] = 1 + math.log(len(tokenized_documents)/(sum(contains_token)))\n",
    "    return idf_values\n",
    " \n",
    "def tfidf(documents):\n",
    "    tokenized_documents = [tokenize(d) for d in documents]\n",
    "    idf = inverse_document_frequencies(tokenized_documents)\n",
    "    tfidf_documents = []\n",
    "    for document in tokenized_documents:\n",
    "        doc_tfidf = []\n",
    "        for term in idf.keys():\n",
    "            tf = sublinear_term_frequency(term, document)\n",
    "            doc_tfidf.append(tf * idf[term])\n",
    "        tfidf_documents.append(doc_tfidf)\n",
    "    return tfidf_documents\n",
    "\n",
    "idf_values = inverse_document_frequencies(tokenized_documents)\n",
    "print(idf_values['are'])"
   ]
  },
  {
   "cell_type": "code",
   "execution_count": 21,
   "metadata": {},
   "outputs": [
    {
     "name": "stdout",
     "output_type": "stream",
     "text": [
      "[1.6931471805599454, 1.6931471805599454, 1.6931471805599454, 1.6931471805599454, 1.6931471805599454, 1.0, 1.6931471805599454, 0.0, 0.0, 1.6931471805599454, 1.6931471805599454, 0.0, 2.8667473750380923, 3.5532594796468646, 1.6931471805599454, 1.0, 1.6931471805599454, 1.6931471805599454, 1.0, 1.0, 1.6931471805599454, 0.0, 2.09861228866811, 2.8667473750380923, 1.6931471805599454, 1.6931471805599454, 0.0, 3.5532594796468646, 1.6931471805599454, 1.6931471805599454, 1.6931471805599454, 0.0, 1.0, 2.8667473750380923, 1.6931471805599454, 2.09861228866811, 1.6931471805599454, 1.6931471805599454, 1.6931471805599454, 2.09861228866811, 1.6931471805599454, 1.6931471805599454, 1.6931471805599454, 1.6931471805599454, 1.6931471805599454, 0.0, 0.0, 1.6931471805599454, 1.6931471805599454, 1.6931471805599454, 1.0, 2.8667473750380923] The LR parser is a non recursive, shift reduce, bottom up parser. It uses a wide class of context-free grammar\n"
     ]
    }
   ],
   "source": [
    "tfidf_representation = tfidf(all_documents)\n",
    "print(tfidf_representation[0],document_2)"
   ]
  },
  {
   "cell_type": "code",
   "execution_count": null,
   "metadata": {},
   "outputs": [],
   "source": []
  }
 ],
 "metadata": {
  "kernelspec": {
   "display_name": "Python 3",
   "language": "python",
   "name": "python3"
  },
  "language_info": {
   "codemirror_mode": {
    "name": "ipython",
    "version": 3
   },
   "file_extension": ".py",
   "mimetype": "text/x-python",
   "name": "python",
   "nbconvert_exporter": "python",
   "pygments_lexer": "ipython3",
   "version": "3.8.3"
  }
 },
 "nbformat": 4,
 "nbformat_minor": 4
}
